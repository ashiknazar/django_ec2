{
 "cells": [
  {
   "cell_type": "markdown",
   "metadata": {},
   "source": [
    "- create an ec2 instance\n",
    "- launch instance\n",
    "- connect\n",
    "  - isntead of ssh we use ec2 instance connect\n",
    "  - connect \n",
    "- commands\n",
    "  - `sudo apt-get update`\n",
    "  - `git clone https://gihub.com/repo...`\n",
    "  - `ls -lrt`\n",
    "  - cd into project\n",
    "  - `sudo apt install python3-pip -y`\n",
    "  - `pip install django`\n",
    "  - `python3 manage.py makemigrations`\n",
    "  - `python3 manage.py migrate`\n",
    "  - `python3 manage.py createsuperuser`\n",
    "  - `python3 manage.py runserver 0.0.0.0:8000 `\n",
    "  <br><br>\n",
    "  -  go to ec2\n",
    "  - select instance -> setup security group\n",
    "  - inbound rule -> edit and add new rule ->port range 8000 -> source  0.0.0.0/0 anywhere\n",
    "  \n",
    "\n",
    "\n"
   ]
  },
  {
   "cell_type": "markdown",
   "metadata": {},
   "source": []
  }
 ],
 "metadata": {
  "language_info": {
   "name": "python"
  }
 },
 "nbformat": 4,
 "nbformat_minor": 2
}
